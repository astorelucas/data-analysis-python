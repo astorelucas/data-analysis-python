{
 "cells": [
  {
   "cell_type": "code",
   "execution_count": null,
   "id": "25895752-f6ab-4389-8dc8-7aa38d55bba4",
   "metadata": {},
   "outputs": [],
   "source": [
    "Data cleaning\n",
    "\n",
    "Lidar com dados nulos\n",
    "Buscar por Outliers e tratativas\n",
    "Buscar por inconsistencia entre bases (ex.: alguma venda para cliente inexistente?)\n",
    "Buscar por dados duplicados\n",
    "Tratativas com formato de dados\n",
    "Identificacao de chave primária"
   ]
  },
  {
   "cell_type": "code",
   "execution_count": null,
   "id": "8d5638af-d706-48d7-89d7-01b7065da96d",
   "metadata": {},
   "outputs": [],
   "source": []
  }
 ],
 "metadata": {
  "kernelspec": {
   "display_name": "Python 3 (ipykernel)",
   "language": "python",
   "name": "python3"
  },
  "language_info": {
   "codemirror_mode": {
    "name": "ipython",
    "version": 3
   },
   "file_extension": ".py",
   "mimetype": "text/x-python",
   "name": "python",
   "nbconvert_exporter": "python",
   "pygments_lexer": "ipython3",
   "version": "3.11.3"
  }
 },
 "nbformat": 4,
 "nbformat_minor": 5
}
