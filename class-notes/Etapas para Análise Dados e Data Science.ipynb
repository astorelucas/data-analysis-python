{
 "cells": [
  {
   "cell_type": "code",
   "execution_count": null,
   "id": "ba5c3dac-88bf-4d9f-a9f1-4f0013b43867",
   "metadata": {},
   "outputs": [],
   "source": [
    "Entenda o contexto do problema e o que representam os dados\n",
    "Extraia os dados\n",
    "Faça a limpeza dos dados (data cleanning)\n",
    "Conecte e mescle os dados (data fusion)\n",
    "Gere novas informações (feature engineering)\n",
    "Interagir, interagir, vizualizar\n",
    "Crie modelos de machine learning"
   ]
  },
  {
   "cell_type": "code",
   "execution_count": null,
   "id": "f8fb0071-c33c-439b-badb-ea18d3ea88ef",
   "metadata": {},
   "outputs": [],
   "source": [
    "Inteiros\n",
    "Pontos flutuantes\n",
    "String\n",
    "Boolean"
   ]
  }
 ],
 "metadata": {
  "kernelspec": {
   "display_name": "Python 3 (ipykernel)",
   "language": "python",
   "name": "python3"
  },
  "language_info": {
   "codemirror_mode": {
    "name": "ipython",
    "version": 3
   },
   "file_extension": ".py",
   "mimetype": "text/x-python",
   "name": "python",
   "nbconvert_exporter": "python",
   "pygments_lexer": "ipython3",
   "version": "3.11.3"
  }
 },
 "nbformat": 4,
 "nbformat_minor": 5
}
