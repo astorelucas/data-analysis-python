{
 "cells": [
  {
   "cell_type": "code",
   "execution_count": 19,
   "id": "b1069d29-9b42-47b9-9198-92c7f8e12666",
   "metadata": {},
   "outputs": [],
   "source": [
    "import pandas as pd\n",
    "import numpy as np\n",
    "import copy"
   ]
  },
  {
   "cell_type": "code",
   "execution_count": 2,
   "id": "ce7f1a05-8fdc-48c8-ab58-904b078cc64d",
   "metadata": {},
   "outputs": [],
   "source": [
    "tabela = pd.DataFrame({\n",
    "    'nome':['Rafael', 'Joao', 'Rafael','Maria'],\n",
    "    'nota':[10,9,8,7]\n",
    "})"
   ]
  },
  {
   "cell_type": "code",
   "execution_count": 3,
   "id": "648f0aa3-050f-4e95-a994-2e6259689727",
   "metadata": {},
   "outputs": [
    {
     "data": {
      "text/html": [
       "<div>\n",
       "<style scoped>\n",
       "    .dataframe tbody tr th:only-of-type {\n",
       "        vertical-align: middle;\n",
       "    }\n",
       "\n",
       "    .dataframe tbody tr th {\n",
       "        vertical-align: top;\n",
       "    }\n",
       "\n",
       "    .dataframe thead th {\n",
       "        text-align: right;\n",
       "    }\n",
       "</style>\n",
       "<table border=\"1\" class=\"dataframe\">\n",
       "  <thead>\n",
       "    <tr style=\"text-align: right;\">\n",
       "      <th></th>\n",
       "      <th>nome</th>\n",
       "      <th>nota</th>\n",
       "    </tr>\n",
       "  </thead>\n",
       "  <tbody>\n",
       "    <tr>\n",
       "      <th>0</th>\n",
       "      <td>Rafael</td>\n",
       "      <td>10</td>\n",
       "    </tr>\n",
       "    <tr>\n",
       "      <th>1</th>\n",
       "      <td>Joao</td>\n",
       "      <td>9</td>\n",
       "    </tr>\n",
       "    <tr>\n",
       "      <th>2</th>\n",
       "      <td>Rafael</td>\n",
       "      <td>8</td>\n",
       "    </tr>\n",
       "    <tr>\n",
       "      <th>3</th>\n",
       "      <td>Maria</td>\n",
       "      <td>7</td>\n",
       "    </tr>\n",
       "  </tbody>\n",
       "</table>\n",
       "</div>"
      ],
      "text/plain": [
       "     nome  nota\n",
       "0  Rafael    10\n",
       "1    Joao     9\n",
       "2  Rafael     8\n",
       "3   Maria     7"
      ]
     },
     "execution_count": 3,
     "metadata": {},
     "output_type": "execute_result"
    }
   ],
   "source": [
    "tabela"
   ]
  },
  {
   "cell_type": "code",
   "execution_count": 4,
   "id": "1a6527e6-b0f2-4632-bb3b-04dbe9937458",
   "metadata": {},
   "outputs": [
    {
     "data": {
      "text/plain": [
       "0    Rafael\n",
       "1      Joao\n",
       "2    Rafael\n",
       "3     Maria\n",
       "Name: nome, dtype: object"
      ]
     },
     "execution_count": 4,
     "metadata": {},
     "output_type": "execute_result"
    }
   ],
   "source": [
    "tabela.nome"
   ]
  },
  {
   "cell_type": "code",
   "execution_count": 5,
   "id": "b8cc1403-327a-4e98-b049-31b511f8b601",
   "metadata": {},
   "outputs": [
    {
     "data": {
      "text/plain": [
       "'Rafael'"
      ]
     },
     "execution_count": 5,
     "metadata": {},
     "output_type": "execute_result"
    }
   ],
   "source": [
    "tabela.nome[2]"
   ]
  },
  {
   "cell_type": "code",
   "execution_count": 6,
   "id": "815c59a2-4db1-4538-9c1e-d2c264d47899",
   "metadata": {},
   "outputs": [
    {
     "data": {
      "text/plain": [
       "0    Rafael\n",
       "1      Joao\n",
       "2    Rafael\n",
       "3     Maria\n",
       "Name: nome, dtype: object"
      ]
     },
     "execution_count": 6,
     "metadata": {},
     "output_type": "execute_result"
    }
   ],
   "source": [
    "tabela['nome']"
   ]
  },
  {
   "cell_type": "code",
   "execution_count": 8,
   "id": "da0b9e03-eaee-4c78-b75d-25c8f20f6d75",
   "metadata": {},
   "outputs": [
    {
     "data": {
      "text/plain": [
       "'Rafael'"
      ]
     },
     "execution_count": 8,
     "metadata": {},
     "output_type": "execute_result"
    }
   ],
   "source": [
    "tabela.loc[2,'nome']"
   ]
  },
  {
   "cell_type": "code",
   "execution_count": 9,
   "id": "5ca9cdcd-c3cb-4380-a70d-ce58a064caa1",
   "metadata": {},
   "outputs": [
    {
     "data": {
      "text/html": [
       "<div>\n",
       "<style scoped>\n",
       "    .dataframe tbody tr th:only-of-type {\n",
       "        vertical-align: middle;\n",
       "    }\n",
       "\n",
       "    .dataframe tbody tr th {\n",
       "        vertical-align: top;\n",
       "    }\n",
       "\n",
       "    .dataframe thead th {\n",
       "        text-align: right;\n",
       "    }\n",
       "</style>\n",
       "<table border=\"1\" class=\"dataframe\">\n",
       "  <thead>\n",
       "    <tr style=\"text-align: right;\">\n",
       "      <th></th>\n",
       "      <th>nota</th>\n",
       "    </tr>\n",
       "    <tr>\n",
       "      <th>nome</th>\n",
       "      <th></th>\n",
       "    </tr>\n",
       "  </thead>\n",
       "  <tbody>\n",
       "    <tr>\n",
       "      <th>Joao</th>\n",
       "      <td>9.0</td>\n",
       "    </tr>\n",
       "    <tr>\n",
       "      <th>Maria</th>\n",
       "      <td>7.0</td>\n",
       "    </tr>\n",
       "    <tr>\n",
       "      <th>Rafael</th>\n",
       "      <td>9.0</td>\n",
       "    </tr>\n",
       "  </tbody>\n",
       "</table>\n",
       "</div>"
      ],
      "text/plain": [
       "        nota\n",
       "nome        \n",
       "Joao     9.0\n",
       "Maria    7.0\n",
       "Rafael   9.0"
      ]
     },
     "execution_count": 9,
     "metadata": {},
     "output_type": "execute_result"
    }
   ],
   "source": [
    "tabela.groupby('nome').mean()"
   ]
  },
  {
   "cell_type": "code",
   "execution_count": 10,
   "id": "eee85336-ccee-4279-9831-51c1892af1da",
   "metadata": {},
   "outputs": [
    {
     "data": {
      "text/html": [
       "<div>\n",
       "<style scoped>\n",
       "    .dataframe tbody tr th:only-of-type {\n",
       "        vertical-align: middle;\n",
       "    }\n",
       "\n",
       "    .dataframe tbody tr th {\n",
       "        vertical-align: top;\n",
       "    }\n",
       "\n",
       "    .dataframe thead th {\n",
       "        text-align: right;\n",
       "    }\n",
       "</style>\n",
       "<table border=\"1\" class=\"dataframe\">\n",
       "  <thead>\n",
       "    <tr style=\"text-align: right;\">\n",
       "      <th></th>\n",
       "      <th>nota</th>\n",
       "    </tr>\n",
       "    <tr>\n",
       "      <th>nome</th>\n",
       "      <th></th>\n",
       "    </tr>\n",
       "  </thead>\n",
       "  <tbody>\n",
       "    <tr>\n",
       "      <th>Joao</th>\n",
       "      <td>1</td>\n",
       "    </tr>\n",
       "    <tr>\n",
       "      <th>Maria</th>\n",
       "      <td>1</td>\n",
       "    </tr>\n",
       "    <tr>\n",
       "      <th>Rafael</th>\n",
       "      <td>2</td>\n",
       "    </tr>\n",
       "  </tbody>\n",
       "</table>\n",
       "</div>"
      ],
      "text/plain": [
       "        nota\n",
       "nome        \n",
       "Joao       1\n",
       "Maria      1\n",
       "Rafael     2"
      ]
     },
     "execution_count": 10,
     "metadata": {},
     "output_type": "execute_result"
    }
   ],
   "source": [
    "tabela.groupby('nome').count()"
   ]
  },
  {
   "cell_type": "code",
   "execution_count": 11,
   "id": "dab1fd43-84ec-4117-a5e1-a0fcfc3f8786",
   "metadata": {},
   "outputs": [
    {
     "data": {
      "text/plain": [
       "0    10\n",
       "1     9\n",
       "2     8\n",
       "3     7\n",
       "Name: nota, dtype: int64"
      ]
     },
     "execution_count": 11,
     "metadata": {},
     "output_type": "execute_result"
    }
   ],
   "source": [
    "tabela.nota"
   ]
  },
  {
   "cell_type": "code",
   "execution_count": 12,
   "id": "ef00f0c1-7399-4a79-ae32-d221995ab7c6",
   "metadata": {},
   "outputs": [
    {
     "data": {
      "text/plain": [
       "0    10\n",
       "2     8\n",
       "Name: nota, dtype: int64"
      ]
     },
     "execution_count": 12,
     "metadata": {},
     "output_type": "execute_result"
    }
   ],
   "source": [
    "tabela.nota[tabela.nome=='Rafael']"
   ]
  },
  {
   "cell_type": "code",
   "execution_count": null,
   "id": "6fbb2fe3-cc16-4672-8463-4f046dd4c68c",
   "metadata": {},
   "outputs": [],
   "source": [
    "#dados ou arrays dentro de laços for, if ==> numpy\n",
    "#sem laços, pandas."
   ]
  },
  {
   "cell_type": "code",
   "execution_count": 14,
   "id": "60fbab41-25b3-4218-99b5-b795859949e4",
   "metadata": {},
   "outputs": [],
   "source": [
    "tabela2 = np.array(tabela)"
   ]
  },
  {
   "cell_type": "code",
   "execution_count": 15,
   "id": "b6213164-abdd-4dc7-a825-d979c5909678",
   "metadata": {},
   "outputs": [
    {
     "data": {
      "text/plain": [
       "array([['Rafael', 10],\n",
       "       ['Joao', 9],\n",
       "       ['Rafael', 8],\n",
       "       ['Maria', 7]], dtype=object)"
      ]
     },
     "execution_count": 15,
     "metadata": {},
     "output_type": "execute_result"
    }
   ],
   "source": [
    "tabela2"
   ]
  },
  {
   "cell_type": "code",
   "execution_count": 16,
   "id": "c11035be-dc39-49ea-9f3a-40c2f88f2334",
   "metadata": {},
   "outputs": [],
   "source": [
    "tabela3 = tabela"
   ]
  },
  {
   "cell_type": "code",
   "execution_count": 17,
   "id": "4b930376-dc20-42ca-b1ee-19d89745f306",
   "metadata": {},
   "outputs": [],
   "source": [
    "tabela3.loc[0,'nota'] = 3"
   ]
  },
  {
   "cell_type": "code",
   "execution_count": 18,
   "id": "6dae15d0-fc36-4b76-bb65-b0ca88b9cb0e",
   "metadata": {},
   "outputs": [
    {
     "data": {
      "text/html": [
       "<div>\n",
       "<style scoped>\n",
       "    .dataframe tbody tr th:only-of-type {\n",
       "        vertical-align: middle;\n",
       "    }\n",
       "\n",
       "    .dataframe tbody tr th {\n",
       "        vertical-align: top;\n",
       "    }\n",
       "\n",
       "    .dataframe thead th {\n",
       "        text-align: right;\n",
       "    }\n",
       "</style>\n",
       "<table border=\"1\" class=\"dataframe\">\n",
       "  <thead>\n",
       "    <tr style=\"text-align: right;\">\n",
       "      <th></th>\n",
       "      <th>nome</th>\n",
       "      <th>nota</th>\n",
       "    </tr>\n",
       "  </thead>\n",
       "  <tbody>\n",
       "    <tr>\n",
       "      <th>0</th>\n",
       "      <td>Rafael</td>\n",
       "      <td>3</td>\n",
       "    </tr>\n",
       "    <tr>\n",
       "      <th>1</th>\n",
       "      <td>Joao</td>\n",
       "      <td>9</td>\n",
       "    </tr>\n",
       "    <tr>\n",
       "      <th>2</th>\n",
       "      <td>Rafael</td>\n",
       "      <td>8</td>\n",
       "    </tr>\n",
       "    <tr>\n",
       "      <th>3</th>\n",
       "      <td>Maria</td>\n",
       "      <td>7</td>\n",
       "    </tr>\n",
       "  </tbody>\n",
       "</table>\n",
       "</div>"
      ],
      "text/plain": [
       "     nome  nota\n",
       "0  Rafael     3\n",
       "1    Joao     9\n",
       "2  Rafael     8\n",
       "3   Maria     7"
      ]
     },
     "execution_count": 18,
     "metadata": {},
     "output_type": "execute_result"
    }
   ],
   "source": [
    "tabela"
   ]
  },
  {
   "cell_type": "code",
   "execution_count": 20,
   "id": "3f6b2543-4b1c-4688-b4a6-9e5e07403039",
   "metadata": {},
   "outputs": [],
   "source": [
    "tabela3 = copy.deepcopy(tabela) #alterações na tabela3 nao irão afetar a tabela original."
   ]
  },
  {
   "cell_type": "code",
   "execution_count": null,
   "id": "8fc4143d-dc6e-4068-8c75-49194d3835d0",
   "metadata": {},
   "outputs": [],
   "source": []
  }
 ],
 "metadata": {
  "kernelspec": {
   "display_name": "Python 3 (ipykernel)",
   "language": "python",
   "name": "python3"
  },
  "language_info": {
   "codemirror_mode": {
    "name": "ipython",
    "version": 3
   },
   "file_extension": ".py",
   "mimetype": "text/x-python",
   "name": "python",
   "nbconvert_exporter": "python",
   "pygments_lexer": "ipython3",
   "version": "3.11.3"
  }
 },
 "nbformat": 4,
 "nbformat_minor": 5
}
