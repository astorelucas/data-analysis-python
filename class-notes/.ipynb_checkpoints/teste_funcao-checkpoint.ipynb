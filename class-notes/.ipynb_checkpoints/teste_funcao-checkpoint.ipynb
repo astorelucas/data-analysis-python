{
 "cells": [
  {
   "cell_type": "code",
   "execution_count": 1,
   "id": "01bab9ba-f142-4be8-ae0d-4bbffa1c1a88",
   "metadata": {},
   "outputs": [],
   "source": [
    "import minhafuncao as mf"
   ]
  },
  {
   "cell_type": "code",
   "execution_count": 2,
   "id": "9a9b8811-42be-4a5a-8d5b-d20a72b82509",
   "metadata": {},
   "outputs": [
    {
     "data": {
      "text/plain": [
       "'Criança'"
      ]
     },
     "execution_count": 2,
     "metadata": {},
     "output_type": "execute_result"
    }
   ],
   "source": [
    "mf.faixaIdade(12)"
   ]
  },
  {
   "cell_type": "code",
   "execution_count": 3,
   "id": "3246621c-dccc-4fd2-b8f8-b6c01f9e7434",
   "metadata": {},
   "outputs": [
    {
     "data": {
      "text/plain": [
       "'Adulto'"
      ]
     },
     "execution_count": 3,
     "metadata": {},
     "output_type": "execute_result"
    }
   ],
   "source": [
    "mf.faixaIdade(30)"
   ]
  },
  {
   "cell_type": "code",
   "execution_count": 4,
   "id": "5ce69de1-3cf8-4a8b-a205-de2ef5cc7548",
   "metadata": {},
   "outputs": [
    {
     "data": {
      "text/plain": [
       "'Idoso'"
      ]
     },
     "execution_count": 4,
     "metadata": {},
     "output_type": "execute_result"
    }
   ],
   "source": [
    "mf.faixaIdade(99)"
   ]
  },
  {
   "cell_type": "code",
   "execution_count": null,
   "id": "4a105a05-2ff7-40dc-bd2c-216f02398bf9",
   "metadata": {},
   "outputs": [],
   "source": []
  },
  {
   "cell_type": "code",
   "execution_count": null,
   "id": "f7c92393-9834-4c55-9625-4a5692684673",
   "metadata": {},
   "outputs": [],
   "source": []
  }
 ],
 "metadata": {
  "kernelspec": {
   "display_name": "Python 3 (ipykernel)",
   "language": "python",
   "name": "python3"
  },
  "language_info": {
   "codemirror_mode": {
    "name": "ipython",
    "version": 3
   },
   "file_extension": ".py",
   "mimetype": "text/x-python",
   "name": "python",
   "nbconvert_exporter": "python",
   "pygments_lexer": "ipython3",
   "version": "3.11.3"
  }
 },
 "nbformat": 4,
 "nbformat_minor": 5
}
