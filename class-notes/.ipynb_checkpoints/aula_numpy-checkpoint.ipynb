{
 "cells": [
  {
   "cell_type": "code",
   "execution_count": null,
   "id": "148ea27e-02b0-4835-95b8-d07d12da04f9",
   "metadata": {},
   "outputs": [],
   "source": [
    "import numpy as np"
   ]
  },
  {
   "cell_type": "code",
   "execution_count": null,
   "id": "04c2da17-c036-42b5-8c7e-237c5788aeb4",
   "metadata": {},
   "outputs": [],
   "source": [
    "idades = np.array([10,23,12,30,40])\n",
    "notas = np.array([9,8,3,3,4])\n",
    "\n",
    "print(notas[idades==10])"
   ]
  }
 ],
 "metadata": {
  "kernelspec": {
   "display_name": "Python 3 (ipykernel)",
   "language": "python",
   "name": "python3"
  },
  "language_info": {
   "codemirror_mode": {
    "name": "ipython",
    "version": 3
   },
   "file_extension": ".py",
   "mimetype": "text/x-python",
   "name": "python",
   "nbconvert_exporter": "python",
   "pygments_lexer": "ipython3",
   "version": "3.11.3"
  }
 },
 "nbformat": 4,
 "nbformat_minor": 5
}
