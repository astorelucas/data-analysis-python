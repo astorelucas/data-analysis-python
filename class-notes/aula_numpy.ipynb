{
 "cells": [
  {
   "cell_type": "code",
   "execution_count": 1,
   "id": "148ea27e-02b0-4835-95b8-d07d12da04f9",
   "metadata": {},
   "outputs": [],
   "source": [
    "import numpy as np"
   ]
  },
  {
   "cell_type": "code",
   "execution_count": 3,
   "id": "04c2da17-c036-42b5-8c7e-237c5788aeb4",
   "metadata": {},
   "outputs": [
    {
     "name": "stdout",
     "output_type": "stream",
     "text": [
      "[9]\n"
     ]
    }
   ],
   "source": [
    "idades = np.array([10,23,12,30,40])\n",
    "notas = np.array([9,8,3,3,4])\n",
    "\n",
    "print(notas[idades==10])"
   ]
  },
  {
   "cell_type": "code",
   "execution_count": 4,
   "id": "4c10b36b-8f85-4223-8bf4-4483635ac15a",
   "metadata": {},
   "outputs": [
    {
     "data": {
      "text/plain": [
       "23.0"
      ]
     },
     "execution_count": 4,
     "metadata": {},
     "output_type": "execute_result"
    }
   ],
   "source": [
    "np.mean(idades)"
   ]
  },
  {
   "cell_type": "code",
   "execution_count": 5,
   "id": "a9a6d4fb-6d16-4a81-bead-5ac6647d9729",
   "metadata": {},
   "outputs": [],
   "source": [
    "salario = np.array([[1000,1299,1400],[1200,1200,4000],[13000,12000,30400]])"
   ]
  },
  {
   "cell_type": "code",
   "execution_count": 6,
   "id": "f063ef84-48a5-4a58-ae5d-34fbd1c958ba",
   "metadata": {},
   "outputs": [
    {
     "data": {
      "text/plain": [
       "4000"
      ]
     },
     "execution_count": 6,
     "metadata": {},
     "output_type": "execute_result"
    }
   ],
   "source": [
    "salario[1,2]"
   ]
  },
  {
   "cell_type": "code",
   "execution_count": 7,
   "id": "fef36a22-f9a5-4d25-bc31-df75d620c713",
   "metadata": {},
   "outputs": [
    {
     "data": {
      "text/plain": [
       "0.5403023058681398"
      ]
     },
     "execution_count": 7,
     "metadata": {},
     "output_type": "execute_result"
    }
   ],
   "source": [
    "np.cos(1) #em rad"
   ]
  },
  {
   "cell_type": "code",
   "execution_count": 8,
   "id": "2c3798ab-cbd5-45bb-abc2-fbd66f8badbc",
   "metadata": {},
   "outputs": [],
   "source": [
    "matriz = np.zeros([4,3])\n",
    "matriz2 = np.ones([3,2])"
   ]
  },
  {
   "cell_type": "code",
   "execution_count": 9,
   "id": "004c8098-01ea-4cc5-97ec-e70038d034bf",
   "metadata": {},
   "outputs": [
    {
     "data": {
      "text/plain": [
       "array([[0., 0., 0.],\n",
       "       [0., 0., 0.],\n",
       "       [0., 0., 0.],\n",
       "       [0., 0., 0.]])"
      ]
     },
     "execution_count": 9,
     "metadata": {},
     "output_type": "execute_result"
    }
   ],
   "source": [
    "matriz"
   ]
  },
  {
   "cell_type": "code",
   "execution_count": 10,
   "id": "e8ec35aa-402f-4867-9f07-80faa499f301",
   "metadata": {},
   "outputs": [
    {
     "data": {
      "text/plain": [
       "array([[1., 1.],\n",
       "       [1., 1.],\n",
       "       [1., 1.]])"
      ]
     },
     "execution_count": 10,
     "metadata": {},
     "output_type": "execute_result"
    }
   ],
   "source": [
    "matriz2"
   ]
  },
  {
   "cell_type": "code",
   "execution_count": null,
   "id": "8fad3424-19e7-422f-84a3-bbfbdad44773",
   "metadata": {},
   "outputs": [],
   "source": []
  }
 ],
 "metadata": {
  "kernelspec": {
   "display_name": "Python 3 (ipykernel)",
   "language": "python",
   "name": "python3"
  },
  "language_info": {
   "codemirror_mode": {
    "name": "ipython",
    "version": 3
   },
   "file_extension": ".py",
   "mimetype": "text/x-python",
   "name": "python",
   "nbconvert_exporter": "python",
   "pygments_lexer": "ipython3",
   "version": "3.11.3"
  }
 },
 "nbformat": 4,
 "nbformat_minor": 5
}
