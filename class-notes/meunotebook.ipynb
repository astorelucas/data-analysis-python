{
 "cells": [
  {
   "cell_type": "code",
   "execution_count": 2,
   "id": "96edc030-0a13-40de-b45c-cb7344c8e903",
   "metadata": {},
   "outputs": [],
   "source": [
    "nomes = ['Rafael','Maria','Ana']\n",
    "idades = [10,20,15]\n",
    "\n",
    "sexo = ('M','F','O')\n",
    "\n",
    "cadastro = {\n",
    "    'nomes': nomes,\n",
    "    'idades': idades,\n",
    "    'cidades': ['A','B','C']\n",
    "}"
   ]
  },
  {
   "cell_type": "code",
   "execution_count": 3,
   "id": "30d84728-6676-4c6c-bc42-3018afd051a3",
   "metadata": {},
   "outputs": [
    {
     "name": "stdout",
     "output_type": "stream",
     "text": [
      "Rafael\n",
      "Maria\n",
      "Ana\n"
     ]
    }
   ],
   "source": [
    "for nome in nomes:\n",
    "    print(nome)"
   ]
  },
  {
   "cell_type": "code",
   "execution_count": 4,
   "id": "762bb688-9666-410d-9a9d-f7e4e6de18ec",
   "metadata": {},
   "outputs": [
    {
     "name": "stdout",
     "output_type": "stream",
     "text": [
      "10\n",
      "20\n"
     ]
    }
   ],
   "source": [
    "for idade in idades:\n",
    "    if idade%2==0: print(idade)"
   ]
  },
  {
   "cell_type": "code",
   "execution_count": 5,
   "id": "036c1719-e8c4-4db8-b233-6d3f5fb77bf3",
   "metadata": {},
   "outputs": [
    {
     "name": "stdout",
     "output_type": "stream",
     "text": [
      "0\n",
      "1\n",
      "2\n",
      "3\n",
      "4\n"
     ]
    }
   ],
   "source": [
    "for i in range(0,5):\n",
    "    print(i)"
   ]
  },
  {
   "cell_type": "code",
   "execution_count": 6,
   "id": "f9e4ff35-65e4-4611-9db8-cde781583888",
   "metadata": {},
   "outputs": [
    {
     "name": "stdout",
     "output_type": "stream",
     "text": [
      "10\n"
     ]
    }
   ],
   "source": [
    "i = 0\n",
    "idade = idades[i]\n",
    "while idade <= 10:\n",
    "    print(idade)\n",
    "    i += 1\n",
    "    idade = idades[i]"
   ]
  },
  {
   "cell_type": "code",
   "execution_count": null,
   "id": "43338cef-db73-43be-b730-2f98f8faf17c",
   "metadata": {},
   "outputs": [],
   "source": []
  }
 ],
 "metadata": {
  "kernelspec": {
   "display_name": "Python 3 (ipykernel)",
   "language": "python",
   "name": "python3"
  },
  "language_info": {
   "codemirror_mode": {
    "name": "ipython",
    "version": 3
   },
   "file_extension": ".py",
   "mimetype": "text/x-python",
   "name": "python",
   "nbconvert_exporter": "python",
   "pygments_lexer": "ipython3",
   "version": "3.11.3"
  }
 },
 "nbformat": 4,
 "nbformat_minor": 5
}
